{
  "nbformat": 4,
  "nbformat_minor": 0,
  "metadata": {
    "colab": {
      "name": "captcha.ipynb",
      "provenance": [],
      "collapsed_sections": [],
      "toc_visible": true
    },
    "kernelspec": {
      "display_name": "Python 3",
      "name": "python3"
    }
  },
  "cells": [
    {
      "cell_type": "code",
      "metadata": {
        "id": "WnXKjU5wv6Ta"
      },
      "source": [
        "from keras.datasets.mnist import load_data \n",
        "from keras.layers.advanced_activations import LeakyReLU\n",
        "from keras.layers import Dense, Dropout, Input\n",
        "from keras.models import Model, Sequential\n",
        "from keras.optimizers import Adam\n",
        "from keras.utils import to_categorical\n",
        "from matplotlib.pyplot import *\n",
        "from numpy import *\n",
        "from numpy.random import normal, randint"
      ],
      "execution_count": 19,
      "outputs": []
    },
    {
      "cell_type": "markdown",
      "metadata": {
        "id": "XsP2kanuHuep"
      },
      "source": [
        "# GAN Network"
      ]
    },
    {
      "cell_type": "markdown",
      "metadata": {
        "id": "m33T1lcMNOmq"
      },
      "source": [
        "## Defining GAN"
      ]
    },
    {
      "cell_type": "code",
      "metadata": {
        "id": "vA6ZnlClv9Et"
      },
      "source": [
        "def discriminator():\n",
        "    model = Sequential()\n",
        "    model.add(Dense(784,input_dim=784))\n",
        "\n",
        "    model.add(LeakyReLU(0.1))\n",
        "    model.add(Dropout(0.1))\n",
        "    model.add(Dense(400))\n",
        "\n",
        "    model.add(LeakyReLU(0.1))\n",
        "    model.add(Dropout(0.1))\n",
        "    model.add(Dense(200))\n",
        "\n",
        "    model.add(LeakyReLU(0.1))\n",
        "    model.add(Dropout(0.1))\n",
        "    model.add(Dense(100))\n",
        "\n",
        "    model.add(LeakyReLU(0.1))\n",
        "    model.add(Dense(1, activation=\"sigmoid\"))\n",
        "    model.compile(loss=\"binary_crossentropy\", optimizer=Adam(lr=0.0002, beta_1=0.4))\n",
        "\n",
        "    return model"
      ],
      "execution_count": 20,
      "outputs": []
    },
    {
      "cell_type": "code",
      "metadata": {
        "id": "AhqkzhTgv96S"
      },
      "source": [
        "def generator():\n",
        "    model = Sequential()\n",
        "    model.add(Dense(100,input_dim=100))\n",
        "\n",
        "    model.add(LeakyReLU(0.1))\n",
        "    model.add(Dense(200))\n",
        "\n",
        "    model.add(LeakyReLU(0.1))\n",
        "    model.add(Dense(400))\n",
        "\n",
        "    model.add(LeakyReLU(0.1))\n",
        "    model.add(Dense(784, activation=\"tanh\"))\n",
        "    model.compile(loss=\"binary_crossentropy\", optimizer=Adam(lr=0.0002, beta_1=0.4))\n",
        "\n",
        "    return model"
      ],
      "execution_count": 21,
      "outputs": []
    },
    {
      "cell_type": "markdown",
      "metadata": {
        "id": "QA5Pg24IIX-A"
      },
      "source": [
        "## Preprocessing"
      ]
    },
    {
      "cell_type": "code",
      "metadata": {
        "id": "gsOhox8EwC9S"
      },
      "source": [
        "batch_size = 128\n",
        "epochs = 100\n",
        "\n",
        "(x_train, y_train), (x_test, y_test) = load_data()\n",
        "\n",
        "x_train = x_train/255\n",
        "x_train = x_train.reshape(60000, 784)\n",
        "\n",
        "gen = generator()\n",
        "disc = discriminator()\n",
        "\n",
        "disc.trainable = False\n",
        "\n",
        "input = Input(shape=(100,))\n",
        "output = disc(gen(input))\n",
        "model = Model(inputs=input, outputs=output)\n",
        "\n",
        "model.compile(loss=\"binary_crossentropy\", optimizer=Adam(lr=0.0002, beta_1=0.4))"
      ],
      "execution_count": 22,
      "outputs": []
    },
    {
      "cell_type": "markdown",
      "metadata": {
        "id": "7LqN4kNsIcCS"
      },
      "source": [
        "## Training GAN"
      ]
    },
    {
      "cell_type": "code",
      "metadata": {
        "colab": {
          "base_uri": "https://localhost:8080/"
        },
        "id": "xuKiNUqHwVZi",
        "outputId": "a8c4dfba-d44c-43bd-eb9f-98b837a29a3c"
      },
      "source": [
        "for i in range(epochs):\n",
        "    for j in range(batch_size):        \n",
        "        x = x_train[randint(0,60000, size=batch_size)]\n",
        "        y = gen.predict(normal(0,1, (batch_size, 100)))\n",
        "\n",
        "        x = concatenate((x, y))\n",
        "        y = zeros(batch_size * 2)\n",
        "        y[:batch_size] = 1\n",
        "\n",
        "        disc.trainable=True\n",
        "        disc.train_on_batch(x, y)\n",
        "        disc.trainable=False\n",
        "\n",
        "        x = normal(0,1, (batch_size, 100))\n",
        "        y = ones(batch_size)\n",
        "        model.train_on_batch(x, y)\n",
        "\n",
        "    print(\"Epoch\",i+1,\"/\",epochs)"
      ],
      "execution_count": 23,
      "outputs": [
        {
          "output_type": "stream",
          "text": [
            "Epoch 1 / 100\n",
            "Epoch 2 / 100\n",
            "Epoch 3 / 100\n",
            "Epoch 4 / 100\n",
            "Epoch 5 / 100\n",
            "Epoch 6 / 100\n",
            "Epoch 7 / 100\n",
            "Epoch 8 / 100\n",
            "Epoch 9 / 100\n",
            "Epoch 10 / 100\n",
            "Epoch 11 / 100\n",
            "Epoch 12 / 100\n",
            "Epoch 13 / 100\n",
            "Epoch 14 / 100\n",
            "Epoch 15 / 100\n",
            "Epoch 16 / 100\n",
            "Epoch 17 / 100\n",
            "Epoch 18 / 100\n",
            "Epoch 19 / 100\n",
            "Epoch 20 / 100\n",
            "Epoch 21 / 100\n",
            "Epoch 22 / 100\n",
            "Epoch 23 / 100\n",
            "Epoch 24 / 100\n",
            "Epoch 25 / 100\n",
            "Epoch 26 / 100\n",
            "Epoch 27 / 100\n",
            "Epoch 28 / 100\n",
            "Epoch 29 / 100\n",
            "Epoch 30 / 100\n",
            "Epoch 31 / 100\n",
            "Epoch 32 / 100\n",
            "Epoch 33 / 100\n",
            "Epoch 34 / 100\n",
            "Epoch 35 / 100\n",
            "Epoch 36 / 100\n",
            "Epoch 37 / 100\n",
            "Epoch 38 / 100\n",
            "Epoch 39 / 100\n",
            "Epoch 40 / 100\n",
            "Epoch 41 / 100\n",
            "Epoch 42 / 100\n",
            "Epoch 43 / 100\n",
            "Epoch 44 / 100\n",
            "Epoch 45 / 100\n",
            "Epoch 46 / 100\n",
            "Epoch 47 / 100\n",
            "Epoch 48 / 100\n",
            "Epoch 49 / 100\n",
            "Epoch 50 / 100\n",
            "Epoch 51 / 100\n",
            "Epoch 52 / 100\n",
            "Epoch 53 / 100\n",
            "Epoch 54 / 100\n",
            "Epoch 55 / 100\n",
            "Epoch 56 / 100\n",
            "Epoch 57 / 100\n",
            "Epoch 58 / 100\n",
            "Epoch 59 / 100\n",
            "Epoch 60 / 100\n",
            "Epoch 61 / 100\n",
            "Epoch 62 / 100\n",
            "Epoch 63 / 100\n",
            "Epoch 64 / 100\n",
            "Epoch 65 / 100\n",
            "Epoch 66 / 100\n",
            "Epoch 67 / 100\n",
            "Epoch 68 / 100\n",
            "Epoch 69 / 100\n",
            "Epoch 70 / 100\n",
            "Epoch 71 / 100\n",
            "Epoch 72 / 100\n",
            "Epoch 73 / 100\n",
            "Epoch 74 / 100\n",
            "Epoch 75 / 100\n",
            "Epoch 76 / 100\n",
            "Epoch 77 / 100\n",
            "Epoch 78 / 100\n",
            "Epoch 79 / 100\n",
            "Epoch 80 / 100\n",
            "Epoch 81 / 100\n",
            "Epoch 82 / 100\n",
            "Epoch 83 / 100\n",
            "Epoch 84 / 100\n",
            "Epoch 85 / 100\n",
            "Epoch 86 / 100\n",
            "Epoch 87 / 100\n",
            "Epoch 88 / 100\n",
            "Epoch 89 / 100\n",
            "Epoch 90 / 100\n",
            "Epoch 91 / 100\n",
            "Epoch 92 / 100\n",
            "Epoch 93 / 100\n",
            "Epoch 94 / 100\n",
            "Epoch 95 / 100\n",
            "Epoch 96 / 100\n",
            "Epoch 97 / 100\n",
            "Epoch 98 / 100\n",
            "Epoch 99 / 100\n",
            "Epoch 100 / 100\n"
          ],
          "name": "stdout"
        }
      ]
    },
    {
      "cell_type": "markdown",
      "metadata": {
        "id": "cbtzNjRjH2qT"
      },
      "source": [
        "# Digit Classifier"
      ]
    },
    {
      "cell_type": "code",
      "metadata": {
        "id": "cvvMEEUSPhby"
      },
      "source": [
        "def digit_classifier():\n",
        "  model = Sequential()\n",
        "  model.add(Dense(784,input_dim=784))\n",
        "\n",
        "  model.add(LeakyReLU(0.1))\n",
        "  model.add(Dropout(0.1))\n",
        "  model.add(Dense(400))\n",
        "\n",
        "  model.add(LeakyReLU(0.1))\n",
        "  model.add(Dropout(0.1))\n",
        "  model.add(Dense(200))\n",
        "\n",
        "  model.add(LeakyReLU(0.1))\n",
        "  model.add(Dropout(0.1))\n",
        "  model.add(Dense(100))\n",
        "\n",
        "  model.add(LeakyReLU(0.1))\n",
        "  model.add(Dropout(0.1))\n",
        "  model.add(Dense(10, activation='softmax'))\n",
        "  model.compile(optimizer=\"sgd\", loss='categorical_crossentropy', metrics=['accuracy'])\n",
        "\n",
        "  return model"
      ],
      "execution_count": 24,
      "outputs": []
    },
    {
      "cell_type": "code",
      "metadata": {
        "colab": {
          "base_uri": "https://localhost:8080/"
        },
        "id": "KuiBl-zqL9_X",
        "outputId": "765ab7ce-012c-46f1-c0e6-20f928bd2446"
      },
      "source": [
        "y_train = to_categorical(y_train, 10)\n",
        "y_test = to_categorical(y_test, 10)\n",
        "\n",
        "classifier = digit_classifier()\n",
        "classifier.fit(x_train, y_train, batch_size=batch_size, epochs=epochs, validation_split = 0.1)"
      ],
      "execution_count": 25,
      "outputs": [
        {
          "output_type": "stream",
          "text": [
            "Epoch 1/100\n",
            "422/422 [==============================] - 9s 22ms/step - loss: 1.3124 - accuracy: 0.6184 - val_loss: 0.4514 - val_accuracy: 0.8902\n",
            "Epoch 2/100\n",
            "422/422 [==============================] - 9s 21ms/step - loss: 0.5261 - accuracy: 0.8456 - val_loss: 0.2885 - val_accuracy: 0.9195\n",
            "Epoch 3/100\n",
            "422/422 [==============================] - 9s 22ms/step - loss: 0.4053 - accuracy: 0.8813 - val_loss: 0.2407 - val_accuracy: 0.9303\n",
            "Epoch 4/100\n",
            "422/422 [==============================] - 9s 22ms/step - loss: 0.3465 - accuracy: 0.8984 - val_loss: 0.2121 - val_accuracy: 0.9358\n",
            "Epoch 5/100\n",
            "422/422 [==============================] - 9s 21ms/step - loss: 0.3077 - accuracy: 0.9090 - val_loss: 0.1927 - val_accuracy: 0.9425\n",
            "Epoch 6/100\n",
            "422/422 [==============================] - 9s 22ms/step - loss: 0.2823 - accuracy: 0.9176 - val_loss: 0.1735 - val_accuracy: 0.9497\n",
            "Epoch 7/100\n",
            "422/422 [==============================] - 9s 22ms/step - loss: 0.2605 - accuracy: 0.9226 - val_loss: 0.1603 - val_accuracy: 0.9540\n",
            "Epoch 8/100\n",
            "422/422 [==============================] - 9s 22ms/step - loss: 0.2396 - accuracy: 0.9295 - val_loss: 0.1504 - val_accuracy: 0.9567\n",
            "Epoch 9/100\n",
            "422/422 [==============================] - 9s 22ms/step - loss: 0.2258 - accuracy: 0.9338 - val_loss: 0.1404 - val_accuracy: 0.9603\n",
            "Epoch 10/100\n",
            "422/422 [==============================] - 9s 22ms/step - loss: 0.2110 - accuracy: 0.9380 - val_loss: 0.1319 - val_accuracy: 0.9635\n",
            "Epoch 11/100\n",
            "422/422 [==============================] - 9s 21ms/step - loss: 0.1997 - accuracy: 0.9420 - val_loss: 0.1250 - val_accuracy: 0.9645\n",
            "Epoch 12/100\n",
            "422/422 [==============================] - 9s 22ms/step - loss: 0.1862 - accuracy: 0.9444 - val_loss: 0.1185 - val_accuracy: 0.9658\n",
            "Epoch 13/100\n",
            "422/422 [==============================] - 9s 21ms/step - loss: 0.1783 - accuracy: 0.9472 - val_loss: 0.1146 - val_accuracy: 0.9670\n",
            "Epoch 14/100\n",
            "422/422 [==============================] - 9s 22ms/step - loss: 0.1704 - accuracy: 0.9492 - val_loss: 0.1098 - val_accuracy: 0.9688\n",
            "Epoch 15/100\n",
            "422/422 [==============================] - 9s 21ms/step - loss: 0.1617 - accuracy: 0.9519 - val_loss: 0.1053 - val_accuracy: 0.9692\n",
            "Epoch 16/100\n",
            "422/422 [==============================] - 9s 21ms/step - loss: 0.1540 - accuracy: 0.9550 - val_loss: 0.1012 - val_accuracy: 0.9692\n",
            "Epoch 17/100\n",
            "422/422 [==============================] - 9s 22ms/step - loss: 0.1463 - accuracy: 0.9566 - val_loss: 0.0979 - val_accuracy: 0.9712\n",
            "Epoch 18/100\n",
            "422/422 [==============================] - 9s 21ms/step - loss: 0.1400 - accuracy: 0.9575 - val_loss: 0.0952 - val_accuracy: 0.9722\n",
            "Epoch 19/100\n",
            "422/422 [==============================] - 9s 21ms/step - loss: 0.1357 - accuracy: 0.9597 - val_loss: 0.0925 - val_accuracy: 0.9718\n",
            "Epoch 20/100\n",
            "422/422 [==============================] - 9s 21ms/step - loss: 0.1296 - accuracy: 0.9624 - val_loss: 0.0910 - val_accuracy: 0.9730\n",
            "Epoch 21/100\n",
            "422/422 [==============================] - 9s 22ms/step - loss: 0.1275 - accuracy: 0.9619 - val_loss: 0.0893 - val_accuracy: 0.9728\n",
            "Epoch 22/100\n",
            "422/422 [==============================] - 10s 24ms/step - loss: 0.1212 - accuracy: 0.9641 - val_loss: 0.0873 - val_accuracy: 0.9740\n",
            "Epoch 23/100\n",
            "422/422 [==============================] - 10s 24ms/step - loss: 0.1161 - accuracy: 0.9654 - val_loss: 0.0870 - val_accuracy: 0.9742\n",
            "Epoch 24/100\n",
            "422/422 [==============================] - 10s 23ms/step - loss: 0.1128 - accuracy: 0.9662 - val_loss: 0.0836 - val_accuracy: 0.9755\n",
            "Epoch 25/100\n",
            "422/422 [==============================] - 9s 22ms/step - loss: 0.1078 - accuracy: 0.9681 - val_loss: 0.0824 - val_accuracy: 0.9745\n",
            "Epoch 26/100\n",
            "422/422 [==============================] - 9s 22ms/step - loss: 0.1052 - accuracy: 0.9681 - val_loss: 0.0796 - val_accuracy: 0.9765\n",
            "Epoch 27/100\n",
            "422/422 [==============================] - 9s 22ms/step - loss: 0.0999 - accuracy: 0.9696 - val_loss: 0.0796 - val_accuracy: 0.9762\n",
            "Epoch 28/100\n",
            "422/422 [==============================] - 9s 22ms/step - loss: 0.0980 - accuracy: 0.9709 - val_loss: 0.0790 - val_accuracy: 0.9772\n",
            "Epoch 29/100\n",
            "422/422 [==============================] - 9s 22ms/step - loss: 0.0937 - accuracy: 0.9719 - val_loss: 0.0784 - val_accuracy: 0.9780\n",
            "Epoch 30/100\n",
            "422/422 [==============================] - 9s 22ms/step - loss: 0.0915 - accuracy: 0.9728 - val_loss: 0.0763 - val_accuracy: 0.9767\n",
            "Epoch 31/100\n",
            "422/422 [==============================] - 9s 22ms/step - loss: 0.0891 - accuracy: 0.9737 - val_loss: 0.0750 - val_accuracy: 0.9782\n",
            "Epoch 32/100\n",
            "422/422 [==============================] - 9s 22ms/step - loss: 0.0873 - accuracy: 0.9740 - val_loss: 0.0749 - val_accuracy: 0.9780\n",
            "Epoch 33/100\n",
            "422/422 [==============================] - 9s 22ms/step - loss: 0.0860 - accuracy: 0.9740 - val_loss: 0.0727 - val_accuracy: 0.9785\n",
            "Epoch 34/100\n",
            "422/422 [==============================] - 9s 22ms/step - loss: 0.0802 - accuracy: 0.9757 - val_loss: 0.0739 - val_accuracy: 0.9783\n",
            "Epoch 35/100\n",
            "422/422 [==============================] - 9s 22ms/step - loss: 0.0791 - accuracy: 0.9761 - val_loss: 0.0721 - val_accuracy: 0.9787\n",
            "Epoch 36/100\n",
            "422/422 [==============================] - 9s 22ms/step - loss: 0.0780 - accuracy: 0.9757 - val_loss: 0.0728 - val_accuracy: 0.9787\n",
            "Epoch 37/100\n",
            "422/422 [==============================] - 9s 22ms/step - loss: 0.0762 - accuracy: 0.9770 - val_loss: 0.0706 - val_accuracy: 0.9793\n",
            "Epoch 38/100\n",
            "422/422 [==============================] - 9s 21ms/step - loss: 0.0724 - accuracy: 0.9778 - val_loss: 0.0706 - val_accuracy: 0.9793\n",
            "Epoch 39/100\n",
            "422/422 [==============================] - 9s 22ms/step - loss: 0.0732 - accuracy: 0.9784 - val_loss: 0.0692 - val_accuracy: 0.9792\n",
            "Epoch 40/100\n",
            "422/422 [==============================] - 9s 21ms/step - loss: 0.0701 - accuracy: 0.9786 - val_loss: 0.0686 - val_accuracy: 0.9795\n",
            "Epoch 41/100\n",
            "422/422 [==============================] - 9s 21ms/step - loss: 0.0675 - accuracy: 0.9799 - val_loss: 0.0679 - val_accuracy: 0.9792\n",
            "Epoch 42/100\n",
            "422/422 [==============================] - 9s 22ms/step - loss: 0.0660 - accuracy: 0.9796 - val_loss: 0.0679 - val_accuracy: 0.9802\n",
            "Epoch 43/100\n",
            "422/422 [==============================] - 9s 22ms/step - loss: 0.0640 - accuracy: 0.9806 - val_loss: 0.0667 - val_accuracy: 0.9795\n",
            "Epoch 44/100\n",
            "422/422 [==============================] - 9s 22ms/step - loss: 0.0628 - accuracy: 0.9811 - val_loss: 0.0671 - val_accuracy: 0.9803\n",
            "Epoch 45/100\n",
            "422/422 [==============================] - 9s 22ms/step - loss: 0.0608 - accuracy: 0.9816 - val_loss: 0.0671 - val_accuracy: 0.9807\n",
            "Epoch 46/100\n",
            "422/422 [==============================] - 9s 22ms/step - loss: 0.0596 - accuracy: 0.9819 - val_loss: 0.0667 - val_accuracy: 0.9813\n",
            "Epoch 47/100\n",
            "422/422 [==============================] - 9s 22ms/step - loss: 0.0579 - accuracy: 0.9821 - val_loss: 0.0661 - val_accuracy: 0.9805\n",
            "Epoch 48/100\n",
            "422/422 [==============================] - 9s 22ms/step - loss: 0.0578 - accuracy: 0.9829 - val_loss: 0.0650 - val_accuracy: 0.9802\n",
            "Epoch 49/100\n",
            "422/422 [==============================] - 9s 22ms/step - loss: 0.0556 - accuracy: 0.9831 - val_loss: 0.0653 - val_accuracy: 0.9810\n",
            "Epoch 50/100\n",
            "422/422 [==============================] - 9s 22ms/step - loss: 0.0538 - accuracy: 0.9835 - val_loss: 0.0648 - val_accuracy: 0.9815\n",
            "Epoch 51/100\n",
            "422/422 [==============================] - 9s 22ms/step - loss: 0.0521 - accuracy: 0.9847 - val_loss: 0.0639 - val_accuracy: 0.9823\n",
            "Epoch 52/100\n",
            "422/422 [==============================] - 9s 22ms/step - loss: 0.0514 - accuracy: 0.9844 - val_loss: 0.0639 - val_accuracy: 0.9820\n",
            "Epoch 53/100\n",
            "422/422 [==============================] - 9s 22ms/step - loss: 0.0503 - accuracy: 0.9846 - val_loss: 0.0647 - val_accuracy: 0.9817\n",
            "Epoch 54/100\n",
            "422/422 [==============================] - 9s 22ms/step - loss: 0.0486 - accuracy: 0.9854 - val_loss: 0.0645 - val_accuracy: 0.9818\n",
            "Epoch 55/100\n",
            "422/422 [==============================] - 9s 22ms/step - loss: 0.0481 - accuracy: 0.9849 - val_loss: 0.0635 - val_accuracy: 0.9812\n",
            "Epoch 56/100\n",
            "422/422 [==============================] - 10s 23ms/step - loss: 0.0462 - accuracy: 0.9858 - val_loss: 0.0623 - val_accuracy: 0.9815\n",
            "Epoch 57/100\n",
            "422/422 [==============================] - 9s 22ms/step - loss: 0.0453 - accuracy: 0.9860 - val_loss: 0.0638 - val_accuracy: 0.9818\n",
            "Epoch 58/100\n",
            "422/422 [==============================] - 10s 23ms/step - loss: 0.0437 - accuracy: 0.9865 - val_loss: 0.0617 - val_accuracy: 0.9822\n",
            "Epoch 59/100\n",
            "422/422 [==============================] - 10s 23ms/step - loss: 0.0446 - accuracy: 0.9869 - val_loss: 0.0637 - val_accuracy: 0.9823\n",
            "Epoch 60/100\n",
            "422/422 [==============================] - 9s 22ms/step - loss: 0.0413 - accuracy: 0.9878 - val_loss: 0.0642 - val_accuracy: 0.9817\n",
            "Epoch 61/100\n",
            "422/422 [==============================] - 9s 22ms/step - loss: 0.0400 - accuracy: 0.9880 - val_loss: 0.0646 - val_accuracy: 0.9820\n",
            "Epoch 62/100\n",
            "422/422 [==============================] - 9s 22ms/step - loss: 0.0406 - accuracy: 0.9870 - val_loss: 0.0625 - val_accuracy: 0.9828\n",
            "Epoch 63/100\n",
            "422/422 [==============================] - 9s 22ms/step - loss: 0.0391 - accuracy: 0.9881 - val_loss: 0.0624 - val_accuracy: 0.9820\n",
            "Epoch 64/100\n",
            "422/422 [==============================] - 9s 22ms/step - loss: 0.0400 - accuracy: 0.9878 - val_loss: 0.0618 - val_accuracy: 0.9830\n",
            "Epoch 65/100\n",
            "422/422 [==============================] - 9s 22ms/step - loss: 0.0383 - accuracy: 0.9882 - val_loss: 0.0616 - val_accuracy: 0.9820\n",
            "Epoch 66/100\n",
            "422/422 [==============================] - 9s 22ms/step - loss: 0.0367 - accuracy: 0.9888 - val_loss: 0.0611 - val_accuracy: 0.9830\n",
            "Epoch 67/100\n",
            "422/422 [==============================] - 9s 22ms/step - loss: 0.0344 - accuracy: 0.9894 - val_loss: 0.0621 - val_accuracy: 0.9827\n",
            "Epoch 68/100\n",
            "422/422 [==============================] - 9s 22ms/step - loss: 0.0348 - accuracy: 0.9891 - val_loss: 0.0618 - val_accuracy: 0.9825\n",
            "Epoch 69/100\n",
            "422/422 [==============================] - 9s 22ms/step - loss: 0.0342 - accuracy: 0.9900 - val_loss: 0.0612 - val_accuracy: 0.9833\n",
            "Epoch 70/100\n",
            "422/422 [==============================] - 9s 22ms/step - loss: 0.0330 - accuracy: 0.9904 - val_loss: 0.0620 - val_accuracy: 0.9823\n",
            "Epoch 71/100\n",
            "422/422 [==============================] - 9s 22ms/step - loss: 0.0323 - accuracy: 0.9903 - val_loss: 0.0605 - val_accuracy: 0.9833\n",
            "Epoch 72/100\n",
            "422/422 [==============================] - 9s 22ms/step - loss: 0.0316 - accuracy: 0.9906 - val_loss: 0.0617 - val_accuracy: 0.9835\n",
            "Epoch 73/100\n",
            "422/422 [==============================] - 9s 22ms/step - loss: 0.0318 - accuracy: 0.9901 - val_loss: 0.0611 - val_accuracy: 0.9835\n",
            "Epoch 74/100\n",
            "422/422 [==============================] - 9s 22ms/step - loss: 0.0298 - accuracy: 0.9914 - val_loss: 0.0605 - val_accuracy: 0.9833\n",
            "Epoch 75/100\n",
            "422/422 [==============================] - 9s 22ms/step - loss: 0.0296 - accuracy: 0.9906 - val_loss: 0.0610 - val_accuracy: 0.9828\n",
            "Epoch 76/100\n",
            "422/422 [==============================] - 9s 22ms/step - loss: 0.0299 - accuracy: 0.9907 - val_loss: 0.0616 - val_accuracy: 0.9827\n",
            "Epoch 77/100\n",
            "422/422 [==============================] - 9s 22ms/step - loss: 0.0294 - accuracy: 0.9912 - val_loss: 0.0620 - val_accuracy: 0.9823\n",
            "Epoch 78/100\n",
            "422/422 [==============================] - 9s 22ms/step - loss: 0.0279 - accuracy: 0.9913 - val_loss: 0.0610 - val_accuracy: 0.9835\n",
            "Epoch 79/100\n",
            "422/422 [==============================] - 9s 22ms/step - loss: 0.0286 - accuracy: 0.9913 - val_loss: 0.0607 - val_accuracy: 0.9833\n",
            "Epoch 80/100\n",
            "422/422 [==============================] - 9s 22ms/step - loss: 0.0265 - accuracy: 0.9919 - val_loss: 0.0612 - val_accuracy: 0.9837\n",
            "Epoch 81/100\n",
            "422/422 [==============================] - 9s 22ms/step - loss: 0.0274 - accuracy: 0.9917 - val_loss: 0.0624 - val_accuracy: 0.9830\n",
            "Epoch 82/100\n",
            "422/422 [==============================] - 9s 22ms/step - loss: 0.0245 - accuracy: 0.9926 - val_loss: 0.0624 - val_accuracy: 0.9828\n",
            "Epoch 83/100\n",
            "422/422 [==============================] - 9s 22ms/step - loss: 0.0254 - accuracy: 0.9925 - val_loss: 0.0598 - val_accuracy: 0.9830\n",
            "Epoch 84/100\n",
            "422/422 [==============================] - 9s 22ms/step - loss: 0.0253 - accuracy: 0.9922 - val_loss: 0.0603 - val_accuracy: 0.9837\n",
            "Epoch 85/100\n",
            "422/422 [==============================] - 9s 22ms/step - loss: 0.0233 - accuracy: 0.9932 - val_loss: 0.0602 - val_accuracy: 0.9837\n",
            "Epoch 86/100\n",
            "422/422 [==============================] - 9s 22ms/step - loss: 0.0236 - accuracy: 0.9931 - val_loss: 0.0605 - val_accuracy: 0.9835\n",
            "Epoch 87/100\n",
            "422/422 [==============================] - 9s 22ms/step - loss: 0.0234 - accuracy: 0.9929 - val_loss: 0.0617 - val_accuracy: 0.9830\n",
            "Epoch 88/100\n",
            "422/422 [==============================] - 9s 22ms/step - loss: 0.0216 - accuracy: 0.9938 - val_loss: 0.0600 - val_accuracy: 0.9832\n",
            "Epoch 89/100\n",
            "422/422 [==============================] - 10s 23ms/step - loss: 0.0213 - accuracy: 0.9936 - val_loss: 0.0609 - val_accuracy: 0.9838\n",
            "Epoch 90/100\n",
            "422/422 [==============================] - 9s 22ms/step - loss: 0.0217 - accuracy: 0.9934 - val_loss: 0.0605 - val_accuracy: 0.9835\n",
            "Epoch 91/100\n",
            "422/422 [==============================] - 9s 22ms/step - loss: 0.0213 - accuracy: 0.9936 - val_loss: 0.0598 - val_accuracy: 0.9835\n",
            "Epoch 92/100\n",
            "422/422 [==============================] - 9s 22ms/step - loss: 0.0213 - accuracy: 0.9936 - val_loss: 0.0595 - val_accuracy: 0.9842\n",
            "Epoch 93/100\n",
            "422/422 [==============================] - 10s 24ms/step - loss: 0.0209 - accuracy: 0.9932 - val_loss: 0.0609 - val_accuracy: 0.9843\n",
            "Epoch 94/100\n",
            "422/422 [==============================] - 10s 24ms/step - loss: 0.0204 - accuracy: 0.9939 - val_loss: 0.0616 - val_accuracy: 0.9837\n",
            "Epoch 95/100\n",
            "422/422 [==============================] - 9s 22ms/step - loss: 0.0200 - accuracy: 0.9941 - val_loss: 0.0612 - val_accuracy: 0.9838\n",
            "Epoch 96/100\n",
            "422/422 [==============================] - 9s 22ms/step - loss: 0.0193 - accuracy: 0.9941 - val_loss: 0.0608 - val_accuracy: 0.9840\n",
            "Epoch 97/100\n",
            "422/422 [==============================] - 9s 22ms/step - loss: 0.0194 - accuracy: 0.9940 - val_loss: 0.0623 - val_accuracy: 0.9845\n",
            "Epoch 98/100\n",
            "422/422 [==============================] - 9s 22ms/step - loss: 0.0192 - accuracy: 0.9941 - val_loss: 0.0603 - val_accuracy: 0.9852\n",
            "Epoch 99/100\n",
            "422/422 [==============================] - 9s 22ms/step - loss: 0.0182 - accuracy: 0.9945 - val_loss: 0.0617 - val_accuracy: 0.9843\n",
            "Epoch 100/100\n",
            "422/422 [==============================] - 9s 22ms/step - loss: 0.0175 - accuracy: 0.9949 - val_loss: 0.0624 - val_accuracy: 0.9840\n"
          ],
          "name": "stdout"
        },
        {
          "output_type": "execute_result",
          "data": {
            "text/plain": [
              "<tensorflow.python.keras.callbacks.History at 0x7fad7c6d9668>"
            ]
          },
          "metadata": {
            "tags": []
          },
          "execution_count": 25
        }
      ]
    },
    {
      "cell_type": "markdown",
      "metadata": {
        "id": "d827nxUqIEM7"
      },
      "source": [
        "# Capcha Generator"
      ]
    },
    {
      "cell_type": "code",
      "metadata": {
        "colab": {
          "base_uri": "https://localhost:8080/",
          "height": 149
        },
        "id": "sSp11qUELZ-n",
        "outputId": "9679b72f-dede-47e4-d5ea-89251bddbaf3"
      },
      "source": [
        "# Rerun to regenerate captcha\n",
        "images = gen.predict(normal(0, 1, size=(10, 100)))\n",
        "predictions = classifier.predict(images)\n",
        "labels = \"\"\n",
        "for prediction in predictions:\n",
        "  max_index = 0\n",
        "  for j in range(len(prediction)-1):\n",
        "    if prediction[max_index] < prediction[j+1]:\n",
        "      max_index = j+1\n",
        "  labels += str(max_index)\n",
        "\n",
        "images = images.reshape(10,28,28)\n",
        "figure(figsize=(25,25))\n",
        "ans=[]\n",
        "for i in range(10):\n",
        "    subplot(1,10, i+1)\n",
        "    axis(\"off\")\n",
        "    imshow(images[i])\n",
        "savefig(\"capcha.png\")"
      ],
      "execution_count": 26,
      "outputs": [
        {
          "output_type": "display_data",
          "data": {
            "image/png": "[encoded data removed]",
            "text/plain": [
              "<Figure size 1800x1800 with 10 Axes>"
            ]
          },
          "metadata": {
            "tags": [],
            "needs_background": "light"
          }
        }
      ]
    },
    {
      "cell_type": "code",
      "metadata": {
        "colab": {
          "base_uri": "https://localhost:8080/"
        },
        "id": "0Z8GS09augGu",
        "outputId": "b122fa23-6f6b-4148-c05c-00c23f105620"
      },
      "source": [
        "# User input of Captcha\n",
        "value = \"5080883883\"  # Look at the captcha and enter digits without spaces here\n",
        "if labels == value:\n",
        "  print(\"Success\")\n",
        "else:\n",
        "  print(\"Fail! Correct = \",labels, \", Input = \",value)"
      ],
      "execution_count": 29,
      "outputs": [
        {
          "output_type": "stream",
          "text": [
            "Success\n"
          ],
          "name": "stdout"
        }
      ]
    }
  ]
}